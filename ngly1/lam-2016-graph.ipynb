{
 "cells": [
  {
   "cell_type": "code",
   "execution_count": 1,
   "metadata": {
    "collapsed": true
   },
   "outputs": [],
   "source": [
    "import pandas as pd"
   ]
  },
  {
   "cell_type": "code",
   "execution_count": 2,
   "metadata": {
    "collapsed": true
   },
   "outputs": [],
   "source": [
    "st = pd.read_table('/home/nuria/workspace/repurposing-hetio/rephetio-dhimmelstein/ngly1-net/curation/knowledge.bio/networks/lam-2016/lam-2016-kb-statements-v1-v20170502.tsv')\n",
    "co = pd.read_table('/home/nuria/workspace/repurposing-hetio/rephetio-dhimmelstein/ngly1-net/curation/knowledge.bio/networks/lam-2016/lam-2016-kb-concepts-v20170502.tsv')"
   ]
  },
  {
   "cell_type": "code",
   "execution_count": 3,
   "metadata": {},
   "outputs": [
    {
     "data": {
      "text/html": [
       "<div>\n",
       "<table border=\"1\" class=\"dataframe\">\n",
       "  <thead>\n",
       "    <tr style=\"text-align: right;\">\n",
       "      <th></th>\n",
       "      <th>subject_qid</th>\n",
       "      <th>property_id</th>\n",
       "      <th>object_qid</th>\n",
       "      <th>reference_uri</th>\n",
       "      <th>reference_supporting_text</th>\n",
       "      <th>reference_date</th>\n",
       "    </tr>\n",
       "  </thead>\n",
       "  <tbody>\n",
       "    <tr>\n",
       "      <th>0</th>\n",
       "      <td>Q28024539</td>\n",
       "      <td>P2293</td>\n",
       "      <td>Q18042037</td>\n",
       "      <td>https://www.ncbi.nlm.nih.gov/pubmed/27388694</td>\n",
       "      <td>NGLY1 deficiency (OMIM 610661 and 615273), or ...</td>\n",
       "      <td>2016-07-07</td>\n",
       "    </tr>\n",
       "    <tr>\n",
       "      <th>1</th>\n",
       "      <td>Q29016913</td>\n",
       "      <td>P3433</td>\n",
       "      <td>Q18042037</td>\n",
       "      <td>https://www.ncbi.nlm.nih.gov/pubmed/27388694</td>\n",
       "      <td>NGLY1 deficiency (OMIM 610661 and 615273), or ...</td>\n",
       "      <td>2016-07-07</td>\n",
       "    </tr>\n",
       "    <tr>\n",
       "      <th>2</th>\n",
       "      <td>Q29016913</td>\n",
       "      <td>P2293</td>\n",
       "      <td>Q28024539</td>\n",
       "      <td>https://www.ncbi.nlm.nih.gov/pubmed/27388694</td>\n",
       "      <td>All five individuals carrying the common mutat...</td>\n",
       "      <td>2016-07-07</td>\n",
       "    </tr>\n",
       "    <tr>\n",
       "      <th>3</th>\n",
       "      <td>Q18042037</td>\n",
       "      <td>P688</td>\n",
       "      <td>Q21119040</td>\n",
       "      <td>https://www.ncbi.nlm.nih.gov/pubmed/27388694</td>\n",
       "      <td>The cytosolic enzyme N-glycanase 1, encoded by...</td>\n",
       "      <td>2016-07-07</td>\n",
       "    </tr>\n",
       "    <tr>\n",
       "      <th>4</th>\n",
       "      <td>Q21119040</td>\n",
       "      <td>P682</td>\n",
       "      <td>Q21108009</td>\n",
       "      <td>https://www.ncbi.nlm.nih.gov/pubmed/27388694</td>\n",
       "      <td>NGLY1 encodes N-glycanase 1, an enzyme involve...</td>\n",
       "      <td>2016-07-07</td>\n",
       "    </tr>\n",
       "  </tbody>\n",
       "</table>\n",
       "</div>"
      ],
      "text/plain": [
       "  subject_qid property_id object_qid  \\\n",
       "0   Q28024539       P2293  Q18042037   \n",
       "1   Q29016913       P3433  Q18042037   \n",
       "2   Q29016913       P2293  Q28024539   \n",
       "3   Q18042037        P688  Q21119040   \n",
       "4   Q21119040        P682  Q21108009   \n",
       "\n",
       "                                  reference_uri  \\\n",
       "0  https://www.ncbi.nlm.nih.gov/pubmed/27388694   \n",
       "1  https://www.ncbi.nlm.nih.gov/pubmed/27388694   \n",
       "2  https://www.ncbi.nlm.nih.gov/pubmed/27388694   \n",
       "3  https://www.ncbi.nlm.nih.gov/pubmed/27388694   \n",
       "4  https://www.ncbi.nlm.nih.gov/pubmed/27388694   \n",
       "\n",
       "                           reference_supporting_text reference_date  \n",
       "0  NGLY1 deficiency (OMIM 610661 and 615273), or ...     2016-07-07  \n",
       "1  NGLY1 deficiency (OMIM 610661 and 615273), or ...     2016-07-07  \n",
       "2  All five individuals carrying the common mutat...     2016-07-07  \n",
       "3  The cytosolic enzyme N-glycanase 1, encoded by...     2016-07-07  \n",
       "4  NGLY1 encodes N-glycanase 1, an enzyme involve...     2016-07-07  "
      ]
     },
     "execution_count": 3,
     "metadata": {},
     "output_type": "execute_result"
    }
   ],
   "source": [
    "st.head()"
   ]
  },
  {
   "cell_type": "code",
   "execution_count": 4,
   "metadata": {},
   "outputs": [
    {
     "data": {
      "text/html": [
       "<div>\n",
       "<table border=\"1\" class=\"dataframe\">\n",
       "  <thead>\n",
       "    <tr style=\"text-align: right;\">\n",
       "      <th></th>\n",
       "      <th>qid</th>\n",
       "      <th>semantic_groups</th>\n",
       "      <th>preflabel</th>\n",
       "      <th>synonyms</th>\n",
       "      <th>definition</th>\n",
       "    </tr>\n",
       "  </thead>\n",
       "  <tbody>\n",
       "    <tr>\n",
       "      <th>0</th>\n",
       "      <td>Q28024539</td>\n",
       "      <td>DISO</td>\n",
       "      <td>NGLY1-deficiency</td>\n",
       "      <td>congenital disorder of deglycosylation|congeni...</td>\n",
       "      <td>Human disease</td>\n",
       "    </tr>\n",
       "    <tr>\n",
       "      <th>1</th>\n",
       "      <td>Q21108009</td>\n",
       "      <td>PHYS</td>\n",
       "      <td>misfolded or incompletely synthesized protein ...</td>\n",
       "      <td>degradation of misfolded or incompletely synth...</td>\n",
       "      <td>The chemical reactions and pathways resulting ...</td>\n",
       "    </tr>\n",
       "    <tr>\n",
       "      <th>2</th>\n",
       "      <td>Q21101373</td>\n",
       "      <td>PHYS</td>\n",
       "      <td>glycoprotein catabolic process</td>\n",
       "      <td>glycoprotein breakdown|glycoprotein catabolism...</td>\n",
       "      <td>The chemical reactions and pathways resulting ...</td>\n",
       "    </tr>\n",
       "    <tr>\n",
       "      <th>3</th>\n",
       "      <td>Q220599</td>\n",
       "      <td>ANAT</td>\n",
       "      <td>cytosol</td>\n",
       "      <td>GO:0005829</td>\n",
       "      <td>The part of the cytoplasm that does not contai...</td>\n",
       "    </tr>\n",
       "    <tr>\n",
       "      <th>4</th>\n",
       "      <td>Q14905965</td>\n",
       "      <td>PHYS</td>\n",
       "      <td>protein deglycosylation</td>\n",
       "      <td>glycoprotein deglycosylation|GO:0006517</td>\n",
       "      <td>The removal of sugar residues from a glycosyla...</td>\n",
       "    </tr>\n",
       "  </tbody>\n",
       "</table>\n",
       "</div>"
      ],
      "text/plain": [
       "         qid semantic_groups  \\\n",
       "0  Q28024539            DISO   \n",
       "1  Q21108009            PHYS   \n",
       "2  Q21101373            PHYS   \n",
       "3    Q220599            ANAT   \n",
       "4  Q14905965            PHYS   \n",
       "\n",
       "                                           preflabel  \\\n",
       "0                                   NGLY1-deficiency   \n",
       "1  misfolded or incompletely synthesized protein ...   \n",
       "2                     glycoprotein catabolic process   \n",
       "3                                            cytosol   \n",
       "4                            protein deglycosylation   \n",
       "\n",
       "                                            synonyms  \\\n",
       "0  congenital disorder of deglycosylation|congeni...   \n",
       "1  degradation of misfolded or incompletely synth...   \n",
       "2  glycoprotein breakdown|glycoprotein catabolism...   \n",
       "3                                         GO:0005829   \n",
       "4            glycoprotein deglycosylation|GO:0006517   \n",
       "\n",
       "                                          definition  \n",
       "0                                      Human disease  \n",
       "1  The chemical reactions and pathways resulting ...  \n",
       "2  The chemical reactions and pathways resulting ...  \n",
       "3  The part of the cytoplasm that does not contai...  \n",
       "4  The removal of sugar residues from a glycosyla...  "
      ]
     },
     "execution_count": 4,
     "metadata": {},
     "output_type": "execute_result"
    }
   ],
   "source": [
    "co.head()"
   ]
  },
  {
   "cell_type": "code",
   "execution_count": 5,
   "metadata": {},
   "outputs": [
    {
     "data": {
      "text/plain": [
       "75"
      ]
     },
     "execution_count": 5,
     "metadata": {},
     "output_type": "execute_result"
    }
   ],
   "source": [
    "# Number of concepts\n",
    "len(set(co.qid))"
   ]
  },
  {
   "cell_type": "code",
   "execution_count": 6,
   "metadata": {},
   "outputs": [
    {
     "data": {
      "text/plain": [
       "76"
      ]
     },
     "execution_count": 6,
     "metadata": {},
     "output_type": "execute_result"
    }
   ],
   "source": [
    "# Number of statements\n",
    "len(st)"
   ]
  },
  {
   "cell_type": "code",
   "execution_count": 7,
   "metadata": {},
   "outputs": [
    {
     "data": {
      "text/plain": [
       "74"
      ]
     },
     "execution_count": 7,
     "metadata": {},
     "output_type": "execute_result"
    }
   ],
   "source": [
    "# Number of entities in statements\n",
    "len(set(list(st.subject_qid) + list(st.object_qid)))"
   ]
  },
  {
   "cell_type": "code",
   "execution_count": 8,
   "metadata": {},
   "outputs": [
    {
     "data": {
      "text/plain": [
       "26"
      ]
     },
     "execution_count": 8,
     "metadata": {},
     "output_type": "execute_result"
    }
   ],
   "source": [
    "# Number of annotations\n",
    "len(set(st.reference_supporting_text))"
   ]
  },
  {
   "cell_type": "code",
   "execution_count": 9,
   "metadata": {},
   "outputs": [
    {
     "data": {
      "text/plain": [
       "0    Q28024539Q18042037\n",
       "1    Q29016913Q18042037\n",
       "2    Q29016913Q28024539\n",
       "3    Q18042037Q21119040\n",
       "4    Q21119040Q21108009\n",
       "dtype: object"
      ]
     },
     "execution_count": 9,
     "metadata": {},
     "output_type": "execute_result"
    }
   ],
   "source": [
    "# Find duplicates\n",
    "added =st.subject_qid + st.object_qid\n",
    "added.head()"
   ]
  },
  {
   "cell_type": "code",
   "execution_count": 10,
   "metadata": {},
   "outputs": [
    {
     "data": {
      "text/plain": [
       "76"
      ]
     },
     "execution_count": 10,
     "metadata": {},
     "output_type": "execute_result"
    }
   ],
   "source": [
    "len(added)"
   ]
  },
  {
   "cell_type": "code",
   "execution_count": 11,
   "metadata": {},
   "outputs": [
    {
     "data": {
      "text/plain": [
       "75"
      ]
     },
     "execution_count": 11,
     "metadata": {},
     "output_type": "execute_result"
    }
   ],
   "source": [
    "len(set(added))"
   ]
  },
  {
   "cell_type": "code",
   "execution_count": 12,
   "metadata": {},
   "outputs": [
    {
     "data": {
      "text/plain": [
       "Q28024539Q622427    2\n",
       "dtype: int64"
      ]
     },
     "execution_count": 12,
     "metadata": {},
     "output_type": "execute_result"
    }
   ],
   "source": [
    "# Show duplicates\n",
    "duplicates = added.value_counts()\n",
    "duplicates[duplicates > 1]"
   ]
  },
  {
   "cell_type": "code",
   "execution_count": 36,
   "metadata": {},
   "outputs": [
    {
     "data": {
      "text/plain": [
       "74"
      ]
     },
     "execution_count": 36,
     "metadata": {},
     "output_type": "execute_result"
    }
   ],
   "source": [
    "# Number of concepts originally (pre-process)\n",
    "concepts = pd.read_table('/home/nuria/workspace/repurposing-hetio/rephetio-dhimmelstein/ngly1-net/curation/knowledge.bio/networks/lam-2016/lam-2016-concepts-v20170502.tsv')\n",
    "concepts.head()\n",
    "co_l = concepts[concepts.original_qid.str.startswith('Q').fillna(False)]\n",
    "len(set(co_l.original_qid))"
   ]
  }
 ],
 "metadata": {
  "kernelspec": {
   "display_name": "Python 3",
   "language": "python",
   "name": "python3"
  },
  "language_info": {
   "codemirror_mode": {
    "name": "ipython",
    "version": 3
   },
   "file_extension": ".py",
   "mimetype": "text/x-python",
   "name": "python",
   "nbconvert_exporter": "python",
   "pygments_lexer": "ipython3",
   "version": "3.5.3"
  }
 },
 "nbformat": 4,
 "nbformat_minor": 2
}
