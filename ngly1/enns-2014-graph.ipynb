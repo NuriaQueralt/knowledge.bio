{
 "cells": [
  {
   "cell_type": "code",
   "execution_count": 1,
   "metadata": {
    "collapsed": true
   },
   "outputs": [],
   "source": [
    "import pandas as pd"
   ]
  },
  {
   "cell_type": "code",
   "execution_count": 7,
   "metadata": {},
   "outputs": [],
   "source": [
    "st = pd.read_table('/home/nuria/workspace/repurposing-hetio/rephetio-dhimmelstein/ngly1-net/curation/knowledge.bio/networks/enns-2014/enns-2014-kb-statements-v1-v20170427-pmid.tsv')\n",
    "co = pd.read_table('/home/nuria/workspace/repurposing-hetio/rephetio-dhimmelstein/ngly1-net/curation/knowledge.bio/networks/enns-2014/enns-2014-kb-concepts-v20170427.tsv')"
   ]
  },
  {
   "cell_type": "code",
   "execution_count": 5,
   "metadata": {},
   "outputs": [
    {
     "data": {
      "text/html": [
       "<div>\n",
       "<table border=\"1\" class=\"dataframe\">\n",
       "  <thead>\n",
       "    <tr style=\"text-align: right;\">\n",
       "      <th></th>\n",
       "      <th>subject_qid</th>\n",
       "      <th>property_id</th>\n",
       "      <th>object_qid</th>\n",
       "      <th>reference_uri</th>\n",
       "      <th>reference_supporting_text</th>\n",
       "      <th>reference_date</th>\n",
       "    </tr>\n",
       "  </thead>\n",
       "  <tbody>\n",
       "    <tr>\n",
       "      <th>0</th>\n",
       "      <td>Q21119040</td>\n",
       "      <td>P2888</td>\n",
       "      <td>Q21119040</td>\n",
       "      <td>https://www.ncbi.nlm.nih.gov/pubmed/24651605</td>\n",
       "      <td>The enzyme N-glycanase 1 (NGLY1), also known a...</td>\n",
       "      <td>2014-03-20</td>\n",
       "    </tr>\n",
       "    <tr>\n",
       "      <th>1</th>\n",
       "      <td>Q21119040</td>\n",
       "      <td>P682</td>\n",
       "      <td>Q14905965</td>\n",
       "      <td>https://www.ncbi.nlm.nih.gov/pubmed/24651605</td>\n",
       "      <td>The enzyme N-glycanase 1 (NGLY1), also known a...</td>\n",
       "      <td>2014-03-20</td>\n",
       "    </tr>\n",
       "    <tr>\n",
       "      <th>2</th>\n",
       "      <td>Q21119040</td>\n",
       "      <td>P682</td>\n",
       "      <td>Q21108009</td>\n",
       "      <td>https://www.ncbi.nlm.nih.gov/pubmed/24651605</td>\n",
       "      <td>Misfolded glycoproteins are detected by ER lum...</td>\n",
       "      <td>2014-03-20</td>\n",
       "    </tr>\n",
       "    <tr>\n",
       "      <th>3</th>\n",
       "      <td>Q21119040</td>\n",
       "      <td>P682</td>\n",
       "      <td>Q21101373</td>\n",
       "      <td>https://www.ncbi.nlm.nih.gov/pubmed/24651605</td>\n",
       "      <td>Misfolded glycoproteins are detected by ER lum...</td>\n",
       "      <td>2014-03-20</td>\n",
       "    </tr>\n",
       "    <tr>\n",
       "      <th>4</th>\n",
       "      <td>Q21119040</td>\n",
       "      <td>P682</td>\n",
       "      <td>Q21115846</td>\n",
       "      <td>https://www.ncbi.nlm.nih.gov/pubmed/24651605</td>\n",
       "      <td>Evidence suggests that NGLY1 participates as a...</td>\n",
       "      <td>2014-03-20</td>\n",
       "    </tr>\n",
       "  </tbody>\n",
       "</table>\n",
       "</div>"
      ],
      "text/plain": [
       "  subject_qid property_id object_qid  \\\n",
       "0   Q21119040       P2888  Q21119040   \n",
       "1   Q21119040        P682  Q14905965   \n",
       "2   Q21119040        P682  Q21108009   \n",
       "3   Q21119040        P682  Q21101373   \n",
       "4   Q21119040        P682  Q21115846   \n",
       "\n",
       "                                  reference_uri  \\\n",
       "0  https://www.ncbi.nlm.nih.gov/pubmed/24651605   \n",
       "1  https://www.ncbi.nlm.nih.gov/pubmed/24651605   \n",
       "2  https://www.ncbi.nlm.nih.gov/pubmed/24651605   \n",
       "3  https://www.ncbi.nlm.nih.gov/pubmed/24651605   \n",
       "4  https://www.ncbi.nlm.nih.gov/pubmed/24651605   \n",
       "\n",
       "                           reference_supporting_text reference_date  \n",
       "0  The enzyme N-glycanase 1 (NGLY1), also known a...     2014-03-20  \n",
       "1  The enzyme N-glycanase 1 (NGLY1), also known a...     2014-03-20  \n",
       "2  Misfolded glycoproteins are detected by ER lum...     2014-03-20  \n",
       "3  Misfolded glycoproteins are detected by ER lum...     2014-03-20  \n",
       "4  Evidence suggests that NGLY1 participates as a...     2014-03-20  "
      ]
     },
     "execution_count": 5,
     "metadata": {},
     "output_type": "execute_result"
    }
   ],
   "source": [
    "st.head()"
   ]
  },
  {
   "cell_type": "code",
   "execution_count": 8,
   "metadata": {},
   "outputs": [
    {
     "data": {
      "text/html": [
       "<div>\n",
       "<table border=\"1\" class=\"dataframe\">\n",
       "  <thead>\n",
       "    <tr style=\"text-align: right;\">\n",
       "      <th></th>\n",
       "      <th>qid</th>\n",
       "      <th>semantic_groups</th>\n",
       "      <th>preflabel</th>\n",
       "      <th>synonyms</th>\n",
       "      <th>definition</th>\n",
       "    </tr>\n",
       "  </thead>\n",
       "  <tbody>\n",
       "    <tr>\n",
       "      <th>0</th>\n",
       "      <td>Q657516</td>\n",
       "      <td>DISO</td>\n",
       "      <td>hereditary spastic paraplegia</td>\n",
       "      <td>familial spastic paraplegia|French settlement ...</td>\n",
       "      <td>A paraplegia that is characterized by progress...</td>\n",
       "    </tr>\n",
       "    <tr>\n",
       "      <th>1</th>\n",
       "      <td>Q28024539</td>\n",
       "      <td>DISO</td>\n",
       "      <td>NGLY1-deficiency</td>\n",
       "      <td>congenital disorder of deglycosylation|congeni...</td>\n",
       "      <td>Human disease</td>\n",
       "    </tr>\n",
       "    <tr>\n",
       "      <th>2</th>\n",
       "      <td>Q2325854</td>\n",
       "      <td>DISO</td>\n",
       "      <td>Riley-Day syndrome</td>\n",
       "      <td>familial autonomic nervous dysfunction|familia...</td>\n",
       "      <td>Human disease</td>\n",
       "    </tr>\n",
       "    <tr>\n",
       "      <th>3</th>\n",
       "      <td>Q1052687</td>\n",
       "      <td>DISO</td>\n",
       "      <td>Charcot–Marie–Tooth disease</td>\n",
       "      <td>Charcot Marie Tooth muscular atrophy|Charcot-M...</td>\n",
       "      <td>A neuromuscular disease that is characterized ...</td>\n",
       "    </tr>\n",
       "    <tr>\n",
       "      <th>4</th>\n",
       "      <td>Q1125675</td>\n",
       "      <td>DISO</td>\n",
       "      <td>congenital disorder of glycosylation</td>\n",
       "      <td>Carbohydrate-deficient glycoprotein syndrome</td>\n",
       "      <td>A carbohydrate metabolic disorder that involve...</td>\n",
       "    </tr>\n",
       "  </tbody>\n",
       "</table>\n",
       "</div>"
      ],
      "text/plain": [
       "         qid semantic_groups                             preflabel  \\\n",
       "0    Q657516            DISO         hereditary spastic paraplegia   \n",
       "1  Q28024539            DISO                      NGLY1-deficiency   \n",
       "2   Q2325854            DISO                    Riley-Day syndrome   \n",
       "3   Q1052687            DISO           Charcot–Marie–Tooth disease   \n",
       "4   Q1125675            DISO  congenital disorder of glycosylation   \n",
       "\n",
       "                                            synonyms  \\\n",
       "0  familial spastic paraplegia|French settlement ...   \n",
       "1  congenital disorder of deglycosylation|congeni...   \n",
       "2  familial autonomic nervous dysfunction|familia...   \n",
       "3  Charcot Marie Tooth muscular atrophy|Charcot-M...   \n",
       "4       Carbohydrate-deficient glycoprotein syndrome   \n",
       "\n",
       "                                          definition  \n",
       "0  A paraplegia that is characterized by progress...  \n",
       "1                                      Human disease  \n",
       "2                                      Human disease  \n",
       "3  A neuromuscular disease that is characterized ...  \n",
       "4  A carbohydrate metabolic disorder that involve...  "
      ]
     },
     "execution_count": 8,
     "metadata": {},
     "output_type": "execute_result"
    }
   ],
   "source": [
    "co.head()"
   ]
  },
  {
   "cell_type": "code",
   "execution_count": 30,
   "metadata": {},
   "outputs": [
    {
     "data": {
      "text/plain": [
       "106"
      ]
     },
     "execution_count": 30,
     "metadata": {},
     "output_type": "execute_result"
    }
   ],
   "source": [
    "# Number of concepts\n",
    "len(set(co.qid))"
   ]
  },
  {
   "cell_type": "code",
   "execution_count": 11,
   "metadata": {},
   "outputs": [
    {
     "data": {
      "text/plain": [
       "137"
      ]
     },
     "execution_count": 11,
     "metadata": {},
     "output_type": "execute_result"
    }
   ],
   "source": [
    "# Number of statements\n",
    "len(st)"
   ]
  },
  {
   "cell_type": "code",
   "execution_count": 27,
   "metadata": {},
   "outputs": [
    {
     "data": {
      "text/plain": [
       "106"
      ]
     },
     "execution_count": 27,
     "metadata": {},
     "output_type": "execute_result"
    }
   ],
   "source": [
    "# Number of entities in statements\n",
    "len(set(list(st.subject_qid) + list(st.object_qid)))"
   ]
  },
  {
   "cell_type": "code",
   "execution_count": 20,
   "metadata": {},
   "outputs": [
    {
     "data": {
      "text/plain": [
       "48"
      ]
     },
     "execution_count": 20,
     "metadata": {},
     "output_type": "execute_result"
    }
   ],
   "source": [
    "# Number of annotations\n",
    "len(set(st.reference_supporting_text))"
   ]
  },
  {
   "cell_type": "code",
   "execution_count": 16,
   "metadata": {},
   "outputs": [
    {
     "data": {
      "text/plain": [
       "0    Q21119040Q21119040\n",
       "1    Q21119040Q14905965\n",
       "2    Q21119040Q21108009\n",
       "3    Q21119040Q21101373\n",
       "4    Q21119040Q21115846\n",
       "dtype: object"
      ]
     },
     "execution_count": 16,
     "metadata": {},
     "output_type": "execute_result"
    }
   ],
   "source": [
    "# Find duplicates\n",
    "added =st.subject_qid + st.object_qid\n",
    "added.head()"
   ]
  },
  {
   "cell_type": "code",
   "execution_count": 17,
   "metadata": {},
   "outputs": [
    {
     "data": {
      "text/plain": [
       "137"
      ]
     },
     "execution_count": 17,
     "metadata": {},
     "output_type": "execute_result"
    }
   ],
   "source": [
    "len(added)"
   ]
  },
  {
   "cell_type": "code",
   "execution_count": 19,
   "metadata": {},
   "outputs": [
    {
     "data": {
      "text/plain": [
       "133"
      ]
     },
     "execution_count": 19,
     "metadata": {},
     "output_type": "execute_result"
    }
   ],
   "source": [
    "len(set(added))"
   ]
  },
  {
   "cell_type": "code",
   "execution_count": 24,
   "metadata": {},
   "outputs": [
    {
     "data": {
      "text/plain": [
       "Q7843329Q19595845    2\n",
       "Q7843329Q661015      2\n",
       "Q7843329Q154709      2\n",
       "Q7843329Q15729064    2\n",
       "dtype: int64"
      ]
     },
     "execution_count": 24,
     "metadata": {},
     "output_type": "execute_result"
    }
   ],
   "source": [
    "# Show duplicates\n",
    "duplicates = added.value_counts()\n",
    "duplicates[duplicates > 1]"
   ]
  }
 ],
 "metadata": {
  "kernelspec": {
   "display_name": "Python 3",
   "language": "python",
   "name": "python3"
  },
  "language_info": {
   "codemirror_mode": {
    "name": "ipython",
    "version": 3
   },
   "file_extension": ".py",
   "mimetype": "text/x-python",
   "name": "python",
   "nbconvert_exporter": "python",
   "pygments_lexer": "ipython3",
   "version": "3.5.3"
  }
 },
 "nbformat": 4,
 "nbformat_minor": 2
}
